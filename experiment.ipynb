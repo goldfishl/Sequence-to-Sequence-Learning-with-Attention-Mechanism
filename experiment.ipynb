{
 "cells": [
  {
   "cell_type": "markdown",
   "metadata": {},
   "source": [
    "# Notebook for Sequence to Sequence with Attention(Bahdanau,Luong) "
   ]
  },
  {
   "cell_type": "markdown",
   "metadata": {},
   "source": [
    "## Load translation examples from the file and use torchtext build dataset\n",
    "See dataset.py\n",
    "- we follew the procedure of torchtext\n",
    "    - we define `Field` which decide our preprocess of text\n",
    "    - we create a `torchtext.legacy.data.Dataset` instance in the our way\n",
    "    - than we can use `BucketIterator` method to build Dataloader(Iterator). `BucketIterator` will minimizes amount of padding needed while producing freshly shuffled, this could improve our model's performance. see [source](https://github.com/pytorch/text/blob/release/0.10/torchtext/legacy/data/iterator.py)\n",
    "- To improve\n",
    "    - Our custom `Dataset` classes and `torchtext.legacy.data.Dataset` classes both refered to Dataset, this can cause confusion\n",
    "    \n",
    "## Load & Vaildate model\n",
    "\n",
    "We loaded models for single-sentence translation tests using the decoding methods of greedy and beam search respectively"
   ]
  },
  {
   "cell_type": "code",
   "execution_count": 1,
   "metadata": {
    "tags": []
   },
   "outputs": [],
   "source": [
    "from dataset import Dataset\n",
    "\n",
    "reverse_src = True\n",
    "device = \"cuda\"\n",
    "dataset = Dataset(reverse_src, device)"
   ]
  },
  {
   "cell_type": "markdown",
   "metadata": {},
   "source": [
    "## Build vocabulary\n",
    "After create a `torchtext.legacy.data.Dataset` instance, we can use method of `Field` to build vocabulary"
   ]
  },
  {
   "cell_type": "code",
   "execution_count": 2,
   "metadata": {},
   "outputs": [],
   "source": [
    "word_minq = 1\n",
    "dataset.build_vocab(word_minq,word_minq)\n",
    "\n",
    "src_vocab_size = len(dataset.srcField.vocab)\n",
    "trg_vocab_size = len(dataset.trgField.vocab)\n",
    "src_pad_idx = dataset.srcField.vocab.__getitem__(dataset.special_tokens['pad'])\n",
    "trg_pad_idx = dataset.trgField.vocab.__getitem__(dataset.special_tokens['pad'])"
   ]
  },
  {
   "cell_type": "markdown",
   "metadata": {},
   "source": [
    "### View data in each batch"
   ]
  },
  {
   "cell_type": "code",
   "execution_count": 3,
   "metadata": {},
   "outputs": [
    {
     "name": "stdout",
     "output_type": "stream",
     "text": [
      "tensor([[   2,    5, 1497,  ...,  145,   16,    3],\n",
      "        [   2,    5, 3545,  ..., 1387,    4,    3],\n",
      "        [   2,    5,   85,  ...,   35,    4,    3],\n",
      "        ...,\n",
      "        [   2,    5,  138,  ...,    9,    4,    3],\n",
      "        [   2,    5,  330,  ...,  747,  113,    3],\n",
      "        [   2,    5, 3966,  ...,   24,    4,    3]], device='cuda:0') tensor([16, 16, 16, 16, 16, 16, 16, 16, 16, 16, 16, 16, 16, 16, 16, 16, 16, 16,\n",
      "        16, 16, 16, 16, 16, 16, 16, 16, 16, 16, 16, 16, 16, 16, 16, 16, 16, 16,\n",
      "        16, 16, 16, 16, 16, 16, 16, 16, 16, 16, 16, 16, 16, 16, 16, 16, 16, 16,\n",
      "        16, 16, 16, 16, 16, 16, 16, 16, 16, 16, 16, 16, 16, 16, 16, 16, 16, 16,\n",
      "        16, 16, 16, 16, 16, 16, 16, 16, 16, 16, 16, 16, 16, 16, 16, 16, 16, 16,\n",
      "        16, 16, 16, 16, 16, 16, 16, 16, 16, 16, 16, 16, 16, 16, 16, 16, 16, 16,\n",
      "        16, 16, 16, 16, 16, 16, 16, 16, 16, 16, 16, 16, 16, 16, 16, 16, 16, 16,\n",
      "        16, 16], device='cuda:0')\n",
      "['<bos>', '.', 'houses', 'of', 'front', 'in', 'sidewalk', 'the', 'on', 'chairs', 'in', 'sitting', 'people', 'old', 'two', '<eos>']\n",
      "tensor([[   2,   18,  390,  ...,    1,    1,    1],\n",
      "        [   2,    5, 1777,  ...,    1,    1,    1],\n",
      "        [   2,    5,   32,  ...,    1,    1,    1],\n",
      "        ...,\n",
      "        [   2,    5,   13,  ...,    1,    1,    1],\n",
      "        [   2,   76,  857,  ...,    1,    1,    1],\n",
      "        [   2,    5,   96,  ...,   84,    4,    3]], device='cuda:0') tensor([17, 13, 14, 11, 18, 14, 14, 16, 18, 12, 15, 13, 14, 15, 16, 17, 14, 17,\n",
      "        13, 14, 15, 13, 15, 16, 14, 13, 16, 13, 16, 13, 15, 15, 15, 15, 15, 21,\n",
      "        20, 15, 15, 12, 13, 13, 15, 14, 11, 13, 16, 12, 13, 14, 18, 17, 13, 18,\n",
      "        13, 13, 13, 15, 13, 16, 15, 16, 16, 15, 14, 18, 17, 14, 18, 14, 17, 18,\n",
      "        14, 12, 14, 14, 15, 13, 11, 15, 15, 16, 14, 15, 13, 12, 14, 14, 12, 14,\n",
      "        16, 20, 12, 15, 16, 16, 14, 15, 15, 14, 14, 17, 13, 15, 15, 16, 10, 12,\n",
      "        16, 17, 16, 15, 15, 16, 15, 19, 15, 18, 16, 17, 14, 16, 15, 14, 13, 12,\n",
      "        15, 23], device='cuda:0')\n",
      "['<bos>', 'zwei', 'alte', 'leute', 'sitzen', 'auf', 'stühlen', ',', 'die', 'vor', 'häusern', 'auf', 'dem', 'bürgersteig', 'stehen', '.', '<eos>', '<pad>', '<pad>', '<pad>', '<pad>', '<pad>', '<pad>']\n"
     ]
    }
   ],
   "source": [
    "batch_size = 128\n",
    "train_iterator, val_iterator, test_iter = dataset.build_DataLoad(batch_size)\n",
    "\n",
    "for batch in train_iterator:\n",
    "    src, src_len = batch.src\n",
    "    trg, trg_len = batch.trg\n",
    "    print(src,src_len)\n",
    "    print([dataset.srcField.vocab.itos[i] for i in src[0]])\n",
    "    print(trg,trg_len)\n",
    "    print([dataset.trgField.vocab.itos[i] for i in trg[0]])\n",
    "    break"
   ]
  },
  {
   "cell_type": "markdown",
   "metadata": {},
   "source": [
    "## Train a Seq2Seq with Luong Attention model\n",
    "- set hyperparameter in '/Luong/hyperparameter.py'"
   ]
  },
  {
   "cell_type": "code",
   "execution_count": 4,
   "metadata": {},
   "outputs": [
    {
     "name": "stderr",
     "output_type": "stream",
     "text": [
      "/home/ljy/.conda/envs/long_NLP/lib/python3.8/site-packages/torch/nn/modules/rnn.py:62: UserWarning: dropout option adds dropout after all but last recurrent layer, so non-zero dropout expects num_layers greater than 1, but got dropout=0.15 and num_layers=1\n",
      "  warnings.warn(\"dropout option adds dropout after all but last \"\n"
     ]
    },
    {
     "name": "stdout",
     "output_type": "stream",
     "text": [
      "<bound method Module.parameters of Seq2Seq(\n",
      "  (encoder): Encoder(\n",
      "    (embedding): Embedding(9796, 256, padding_idx=1)\n",
      "    (rnn): GRU(256, 512, batch_first=True, dropout=0.15)\n",
      "    (dropout): Dropout(p=0.15, inplace=False)\n",
      "  )\n",
      "  (decoder): Decoder(\n",
      "    (embedding): Embedding(18668, 256, padding_idx=1)\n",
      "    (dropout): Dropout(p=0.15, inplace=False)\n",
      "    (rnn): GRU(768, 512, batch_first=True, dropout=0.15)\n",
      "    (attention): Luong_Attention(\n",
      "      (W): Linear(in_features=1024, out_features=512, bias=True)\n",
      "      (v): Linear(in_features=512, out_features=1, bias=False)\n",
      "    )\n",
      "    (fc): Linear(in_features=1024, out_features=512, bias=True)\n",
      "    (out_fc): Linear(in_features=512, out_features=18668, bias=True)\n",
      "  )\n",
      ")>\n",
      "MLP\n"
     ]
    }
   ],
   "source": [
    "from Luong.models import Seq2Seq\n",
    "\n",
    "model = Seq2Seq(src_vocab_size,trg_vocab_size,src_pad_idx,trg_pad_idx).to(device)\n",
    "\n",
    "print(model.parameters)\n",
    "print(model.decoder.attention.method)"
   ]
  },
  {
   "cell_type": "code",
   "execution_count": 5,
   "metadata": {},
   "outputs": [
    {
     "name": "stdout",
     "output_type": "stream",
     "text": [
      "batch_size: 128\n",
      "-----------------------------------------------------------------\n",
      "Epoch 1\n",
      "-----------------------------------------------------------------\n",
      "[ 50/227 ] Loss: 6.004956... Val Loss: 5.688063... Val BLEU: 0.000000...\n",
      "[ 100/227 ] Loss: 5.344352... Val Loss: 5.528790... Val BLEU: 1.920246...\n",
      "[ 150/227 ] Loss: 5.321623... Val Loss: 5.373023... Val BLEU: 2.103059...\n",
      "[ 200/227 ] Loss: 4.381223... Val Loss: 5.174333... Val BLEU: 3.312080...\n",
      "[ 227/227 ] Loss: 5.392112... Val Loss: 5.468957... Val BLEU: 3.013344...\n",
      "Total Epoche:  |    Time: 0m 32s\n",
      " Epoch Loss: 5.341850... Train BLEU: 2.531414...\n",
      "-----------------------------------------------------------------\n",
      "Epoch 2\n",
      "-----------------------------------------------------------------\n",
      "[ 50/227 ] Loss: 5.520894... Val Loss: 4.902682... Val BLEU: 6.796175...\n",
      "[ 100/227 ] Loss: 3.927659... Val Loss: 4.668367... Val BLEU: 9.287969...\n",
      "[ 150/227 ] Loss: 4.366240... Val Loss: 4.497064... Val BLEU: 11.223089...\n",
      "[ 200/227 ] Loss: 3.898019... Val Loss: 4.325120... Val BLEU: 13.002250...\n",
      "[ 227/227 ] Loss: 3.414607... Val Loss: 4.228109... Val BLEU: 15.121003...\n",
      "Total Epoche:  |    Time: 0m 33s\n",
      " Epoch Loss: 4.002734... Train BLEU: 14.704557...\n",
      "-----------------------------------------------------------------\n",
      "Epoch 3\n",
      "-----------------------------------------------------------------\n",
      "[ 50/227 ] Loss: 4.171190... Val Loss: 4.399819... Val BLEU: 14.150082...\n",
      "[ 100/227 ] Loss: 3.324328... Val Loss: 4.111270... Val BLEU: 17.283885...\n",
      "[ 150/227 ] Loss: 2.745776... Val Loss: 3.917520... Val BLEU: 19.587452...\n",
      "[ 200/227 ] Loss: 3.553186... Val Loss: 3.875217... Val BLEU: 20.557502...\n",
      "[ 227/227 ] Loss: 3.429432... Val Loss: 3.868309... Val BLEU: 20.851757...\n",
      "Total Epoche:  |    Time: 0m 22s\n",
      " Epoch Loss: 3.466587... Train BLEU: 21.658423...\n",
      "-----------------------------------------------------------------\n",
      "Epoch 4\n",
      "-----------------------------------------------------------------\n",
      "[ 50/227 ] Loss: 3.449317... Val Loss: 3.868439... Val BLEU: 21.394584...\n",
      "[ 100/227 ] Loss: 3.102737... Val Loss: 3.808207... Val BLEU: 22.830644...\n",
      "[ 150/227 ] Loss: 2.744337... Val Loss: 3.722961... Val BLEU: 23.805149...\n",
      "[ 200/227 ] Loss: 3.084587... Val Loss: 3.682645... Val BLEU: 24.442285...\n",
      "[ 227/227 ] Loss: 3.072832... Val Loss: 3.648833... Val BLEU: 24.182101...\n",
      "Total Epoche:  |    Time: 0m 22s\n",
      " Epoch Loss: 3.035254... Train BLEU: 26.399632...\n",
      "-----------------------------------------------------------------\n",
      "Epoch 5\n",
      "-----------------------------------------------------------------\n",
      "[ 50/227 ] Loss: 2.508210... Val Loss: 3.773485... Val BLEU: 22.536294...\n",
      "[ 100/227 ] Loss: 2.009749... Val Loss: 3.615159... Val BLEU: 26.072072...\n",
      "[ 150/227 ] Loss: 2.429196... Val Loss: 3.644896... Val BLEU: 25.745462...\n",
      "[ 200/227 ] Loss: 1.770582... Val Loss: 3.658811... Val BLEU: 26.210971...\n",
      "[ 227/227 ] Loss: 2.868155... Val Loss: 3.579541... Val BLEU: 27.836848...\n",
      "Total Epoche:  |    Time: 0m 22s\n",
      " Epoch Loss: 2.764195... Train BLEU: 32.030363...\n",
      "-----------------------------------------------------------------\n",
      "Epoch 6\n",
      "-----------------------------------------------------------------\n",
      "[ 50/227 ] Loss: 1.575231... Val Loss: 3.605800... Val BLEU: 27.494678...\n",
      "[ 100/227 ] Loss: 2.237923... Val Loss: 3.581205... Val BLEU: 28.421183...\n",
      "[ 150/227 ] Loss: 2.237019... Val Loss: 3.589928... Val BLEU: 28.345276...\n",
      "[ 200/227 ] Loss: 1.454539... Val Loss: 3.587424... Val BLEU: 28.337961...\n",
      "[ 227/227 ] Loss: 2.071231... Val Loss: 3.558734... Val BLEU: 28.988863...\n",
      "Total Epoche:  |    Time: 0m 23s\n",
      " Epoch Loss: 2.465992... Train BLEU: 36.804621...\n",
      "-----------------------------------------------------------------\n",
      "Epoch 7\n",
      "-----------------------------------------------------------------\n",
      "[ 50/227 ] Loss: 3.030137... Val Loss: 3.534748... Val BLEU: 28.251307...\n",
      "[ 100/227 ] Loss: 1.361734... Val Loss: 3.527989... Val BLEU: 29.044714...\n",
      "[ 150/227 ] Loss: 2.326176... Val Loss: 3.577765... Val BLEU: 29.069224...\n",
      "[ 200/227 ] Loss: 1.938291... Val Loss: 3.538549... Val BLEU: 28.894237...\n",
      "[ 227/227 ] Loss: 2.479176... Val Loss: 3.597363... Val BLEU: 28.704419...\n",
      "Total Epoche:  |    Time: 0m 23s\n",
      " Epoch Loss: 2.241697... Train BLEU: 41.095929...\n",
      "-----------------------------------------------------------------\n",
      "Epoch 8\n",
      "-----------------------------------------------------------------\n",
      "[ 50/227 ] Loss: 1.402807... Val Loss: 3.570073... Val BLEU: 29.645340...\n",
      "[ 100/227 ] Loss: 1.239484... Val Loss: 3.548045... Val BLEU: 30.069982...\n",
      "[ 150/227 ] Loss: 2.095190... Val Loss: 3.604016... Val BLEU: 30.443856...\n",
      "[ 200/227 ] Loss: 0.905655... Val Loss: 3.644847... Val BLEU: 29.349107...\n",
      "[ 227/227 ] Loss: 2.098442... Val Loss: 3.615916... Val BLEU: 30.080306...\n",
      "Total Epoche:  |    Time: 0m 22s\n",
      " Epoch Loss: 2.060096... Train BLEU: 45.246639...\n",
      "-----------------------------------------------------------------\n",
      "Epoch 9\n",
      "-----------------------------------------------------------------\n",
      "[ 50/227 ] Loss: 1.488008... Val Loss: 3.601347... Val BLEU: 30.223879...\n",
      "[ 100/227 ] Loss: 0.928724... Val Loss: 3.674237... Val BLEU: 29.539641...\n",
      "[ 150/227 ] Loss: 1.782963... Val Loss: 3.634756... Val BLEU: 30.208078...\n",
      "[ 200/227 ] Loss: 1.816887... Val Loss: 3.569960... Val BLEU: 30.216242...\n",
      "[ 227/227 ] Loss: 1.184446... Val Loss: 3.629960... Val BLEU: 30.516575...\n",
      "Total Epoche:  |    Time: 0m 23s\n",
      " Epoch Loss: 1.876948... Train BLEU: 48.679345...\n",
      "-----------------------------------------------------------------\n",
      "Epoch 10\n",
      "-----------------------------------------------------------------\n",
      "[ 50/227 ] Loss: 0.959954... Val Loss: 3.736082... Val BLEU: 29.808435...\n",
      "[ 100/227 ] Loss: 1.451445... Val Loss: 3.676000... Val BLEU: 31.086205...\n",
      "[ 150/227 ] Loss: 1.453361... Val Loss: 3.637342... Val BLEU: 29.413474...\n",
      "[ 200/227 ] Loss: 1.638484... Val Loss: 3.675670... Val BLEU: 30.519891...\n",
      "[ 227/227 ] Loss: 0.978668... Val Loss: 3.666162... Val BLEU: 30.660835...\n",
      "Total Epoche:  |    Time: 0m 23s\n",
      " Epoch Loss: 1.751733... Train BLEU: 51.167194...\n"
     ]
    }
   ],
   "source": [
    "from Luong.trainer import train\n",
    "import torch\n",
    "\n",
    "clip = 5\n",
    "lr = 1e-2\n",
    "# optimizer = torch.optim.Adam(model.parameters(), lr=lr)\n",
    "# optimizer = torch.optim.SGD(model.parameters(), lr)\n",
    "optimizer = torch.optim.Adam(model.parameters())\n",
    "\n",
    "train(model, optimizer, clip, dataset, \n",
    "      num_epochs=10, mini_batch_size=128, accum_iter=1,\n",
    "      print_every=50)\n",
    "\n",
    "model.save(\"Luong02_E10.pt\")"
   ]
  },
  {
   "cell_type": "markdown",
   "metadata": {},
   "source": [
    "### Load the model"
   ]
  },
  {
   "cell_type": "code",
   "execution_count": 6,
   "metadata": {},
   "outputs": [
    {
     "name": "stdout",
     "output_type": "stream",
     "text": [
      "<bound method Module.parameters of Seq2Seq(\n",
      "  (encoder): Encoder(\n",
      "    (embedding): Embedding(9796, 256, padding_idx=1)\n",
      "    (rnn): GRU(256, 512, batch_first=True, dropout=0.15)\n",
      "    (dropout): Dropout(p=0.15, inplace=False)\n",
      "  )\n",
      "  (decoder): Decoder(\n",
      "    (embedding): Embedding(18668, 256, padding_idx=1)\n",
      "    (dropout): Dropout(p=0.15, inplace=False)\n",
      "    (rnn): GRU(768, 512, batch_first=True, dropout=0.15)\n",
      "    (attention): Luong_Attention(\n",
      "      (W): Linear(in_features=1024, out_features=512, bias=True)\n",
      "      (v): Linear(in_features=512, out_features=1, bias=False)\n",
      "    )\n",
      "    (fc): Linear(in_features=1024, out_features=512, bias=True)\n",
      "    (out_fc): Linear(in_features=512, out_features=18668, bias=True)\n",
      "  )\n",
      ")>\n",
      "MLP\n"
     ]
    },
    {
     "name": "stderr",
     "output_type": "stream",
     "text": [
      "/home/ljy/.conda/envs/long_NLP/lib/python3.8/site-packages/torch/nn/modules/rnn.py:62: UserWarning: dropout option adds dropout after all but last recurrent layer, so non-zero dropout expects num_layers greater than 1, but got dropout=0.15 and num_layers=1\n",
      "  warnings.warn(\"dropout option adds dropout after all but last \"\n"
     ]
    }
   ],
   "source": [
    "from Luong.models import Seq2Seq\n",
    "\n",
    "device = \"cuda\"\n",
    "\n",
    "model = Seq2Seq(src_vocab_size,trg_vocab_size,src_pad_idx,trg_pad_idx,build=False).to(device)\n",
    "model.load(\"Luong02_E10.pt\",device)\n",
    "\n",
    "print(model.parameters)\n",
    "print(model.decoder.attention.method)"
   ]
  },
  {
   "cell_type": "markdown",
   "metadata": {},
   "source": [
    "## Validate Model\n",
    "### BLEU score and Cost in Test_set"
   ]
  },
  {
   "cell_type": "code",
   "execution_count": 7,
   "metadata": {},
   "outputs": [
    {
     "name": "stdout",
     "output_type": "stream",
     "text": [
      "Test set cost: 3.6415696144104004   |  Test set BLEU score: 31.208941690841264\n"
     ]
    }
   ],
   "source": [
    "batch_size = 128\n",
    "train_iterator, val_iterator, test_iter = dataset.build_DataLoad(batch_size)\n",
    "\n",
    "\n",
    "from Luong.validator import evaluate\n",
    "\n",
    "pad_idx = dataset.srcField.vocab.__getitem__(dataset.special_tokens['pad'])\n",
    "bos_idx = dataset.srcField.vocab.__getitem__(dataset.special_tokens['bos'])\n",
    "eos_idx = dataset.srcField.vocab.__getitem__(dataset.special_tokens['eos'])\n",
    "\n",
    "test_loss, BLEU_score = evaluate(model, test_iter,\n",
    "                                 pad_idx, bos_idx, eos_idx,\n",
    "                                 trgField=dataset.trgField, BLEU=True)\n",
    "\n",
    "print(\"Test set cost:\",test_loss,\"  |  Test set BLEU score:\",BLEU_score)"
   ]
  },
  {
   "cell_type": "markdown",
   "metadata": {},
   "source": [
    "### Single sentence translation and Attention visualization\n",
    "#### Greedy decode"
   ]
  },
  {
   "cell_type": "code",
   "execution_count": 8,
   "metadata": {},
   "outputs": [
    {
     "name": "stderr",
     "output_type": "stream",
     "text": [
      "/data/data_ljy/Pycharm_Project/Luong_Attention/Luong/validator.py:123: UserWarning: FixedFormatter should only be used together with FixedLocator\n",
      "  ax.set_xticklabels(x_ticks, rotation=45)\n",
      "/data/data_ljy/Pycharm_Project/Luong_Attention/Luong/validator.py:124: UserWarning: FixedFormatter should only be used together with FixedLocator\n",
      "  ax.set_yticklabels(y_ticks)\n"
     ]
    },
    {
     "data": {
      "image/png": "[encoded data removed]",
      "text/plain": [
       "<Figure size 720x720 with 1 Axes>"
      ]
     },
     "metadata": {
      "needs_background": "light"
     },
     "output_type": "display_data"
    }
   ],
   "source": [
    "from Luong.validator import single_decode\n",
    "from Luong.validator import display_attention\n",
    "\n",
    "# src = \"a little girl climbing into a wooden playhouse .\"\n",
    "src = \"three young children stand around a blue and white barrel .\"\n",
    "\n",
    "src_sentence, translation, atten_weights = single_decode(model, src, dataset, \"greedy\", reverse_src=reverse_src)\n",
    "\n",
    "\n",
    "\n",
    "display_attention(src_sentence, translation, atten_weights)"
   ]
  },
  {
   "cell_type": "markdown",
   "metadata": {},
   "source": [
    "#### Beam Search decode"
   ]
  },
  {
   "cell_type": "code",
   "execution_count": 12,
   "metadata": {},
   "outputs": [
    {
     "name": "stdout",
     "output_type": "stream",
     "text": [
      "drei kleine kinder stehen um einen blau-weißen herum . <eos>\n",
      "drei kleine kinder stehen um einen blau-weißen herum herum . <eos>\n",
      "drei kleine kinder stehen um einem blau-weißen herum herum . <eos>\n",
      "drei kleine kinder stehen um einen blau-weißen fass herum . <eos>\n",
      "drei kleine kinder stehen um einen blau-weißen gabelstapler herum . <eos>\n",
      "drei kleine kinder stehen um um einen blau-weißen fass herum . <eos>\n",
      "drei kleine kinder stehen um um einem blau-weißen fass herum . <eos>\n",
      "drei kleine kinder stehen um um einen blau-weißen herum herum . <eos>\n",
      "drei kleine kinder stehen um um einem blau-weißen herum herum . <eos>\n",
      "drei kleine kinder stehen um um ein blau-weißen fass herum . <eos>\n",
      "drei kleine kinder stehen um einen blau-weißen herum herum herum . <eos>\n",
      "drei kleine kinder stehen um um eine blau-weißen fass herum . <eos>\n"
     ]
    }
   ],
   "source": [
    "from Luong.validator import single_decode\n",
    "\n",
    "# src = \"three young children.\"\n",
    "# src = \"three woman holding a bowl of food in a kitchen .\"\n",
    "src = \"three young children stand around a blue and white barrel .\"\n",
    "\n",
    "src_sentence, translation, atten_weights = single_decode(model, src, dataset, \"beam\", beam_width=12, reverse_src=reverse_src)\n",
    "for sentence in translation:\n",
    "    print(' '.join(sentence))"
   ]
  },
  {
   "cell_type": "code",
   "execution_count": 14,
   "metadata": {
    "tags": []
   },
   "outputs": [
    {
     "data": {
      "image/png": "[encoded data removed]",
      "text/plain": [
       "<Figure size 720x720 with 1 Axes>"
      ]
     },
     "metadata": {
      "needs_background": "light"
     },
     "output_type": "display_data"
    }
   ],
   "source": [
    "from Luong.validator import display_attention\n",
    "\n",
    "sentence_num = 3\n",
    "\n",
    "display_attention(src_sentence, translation[sentence_num], atten_weights[sentence_num])"
   ]
  },
  {
   "cell_type": "markdown",
   "metadata": {},
   "source": [
    "## Train a Seq2Seq with Bahdanau Attention model\n",
    "- We build dataset from scratch because we don't need to reverse order of source sentence\n",
    "- set hyperparameter in '/Bahdanau/hyperparameter.py'"
   ]
  },
  {
   "cell_type": "code",
   "execution_count": 1,
   "metadata": {},
   "outputs": [],
   "source": [
    "from dataset import Dataset\n",
    "\n",
    "reverse_src = False\n",
    "device = \"cuda\"\n",
    "dataset = Dataset(reverse_src, device)"
   ]
  },
  {
   "cell_type": "code",
   "execution_count": 2,
   "metadata": {},
   "outputs": [],
   "source": [
    "word_minq = 1\n",
    "dataset.build_vocab(word_minq,word_minq)\n",
    "\n",
    "src_vocab_size = len(dataset.srcField.vocab)\n",
    "trg_vocab_size = len(dataset.trgField.vocab)\n",
    "src_pad_idx = dataset.srcField.vocab.__getitem__(dataset.special_tokens['pad'])\n",
    "trg_pad_idx = dataset.trgField.vocab.__getitem__(dataset.special_tokens['pad'])"
   ]
  },
  {
   "cell_type": "code",
   "execution_count": 3,
   "metadata": {},
   "outputs": [
    {
     "name": "stderr",
     "output_type": "stream",
     "text": [
      "/home/ljy/.conda/envs/long_NLP/lib/python3.8/site-packages/torch/nn/modules/rnn.py:62: UserWarning: dropout option adds dropout after all but last recurrent layer, so non-zero dropout expects num_layers greater than 1, but got dropout=0.2 and num_layers=1\n",
      "  warnings.warn(\"dropout option adds dropout after all but last \"\n"
     ]
    },
    {
     "name": "stdout",
     "output_type": "stream",
     "text": [
      "<bound method Module.parameters of Seq2Seq(\n",
      "  (encoder): Encoder(\n",
      "    (embedding): Embedding(9796, 256, padding_idx=1)\n",
      "    (rnn): GRU(256, 512, batch_first=True, dropout=0.2, bidirectional=True)\n",
      "    (fc): Linear(in_features=1024, out_features=512, bias=True)\n",
      "    (dropout): Dropout(p=0.2, inplace=False)\n",
      "  )\n",
      "  (decoder): Decoder(\n",
      "    (embedding): Embedding(18668, 256, padding_idx=1)\n",
      "    (dropout): Dropout(p=0.2, inplace=False)\n",
      "    (rnn): GRU(1280, 512, batch_first=True, dropout=0.2)\n",
      "    (attention): Bahdanau_Attention(\n",
      "      (W): Linear(in_features=1536, out_features=512, bias=True)\n",
      "      (v): Linear(in_features=512, out_features=1, bias=False)\n",
      "    )\n",
      "    (fc_out): Linear(in_features=1792, out_features=18668, bias=True)\n",
      "  )\n",
      ")>\n"
     ]
    }
   ],
   "source": [
    "from Bahdanau.models import Seq2Seq\n",
    "\n",
    "model = Seq2Seq(src_vocab_size,trg_vocab_size,src_pad_idx,trg_pad_idx).to(device)\n",
    "\n",
    "print(model.parameters)"
   ]
  },
  {
   "cell_type": "code",
   "execution_count": 14,
   "metadata": {},
   "outputs": [
    {
     "name": "stdout",
     "output_type": "stream",
     "text": [
      "batch_size: 128\n",
      "-----------------------------------------------------------------\n",
      "Epoch 1\n",
      "-----------------------------------------------------------------\n",
      "[ 50/227 ] Loss: 5.049674... Val Loss: 5.342378... Val BLEU: 3.209483...\n",
      "[ 100/227 ] Loss: 4.342801... Val Loss: 4.617905... Val BLEU: 10.366082...\n",
      "[ 150/227 ] Loss: 3.853774... Val Loss: 4.124403... Val BLEU: 15.601981...\n",
      "[ 200/227 ] Loss: 3.424032... Val Loss: 3.913564... Val BLEU: 19.344881...\n",
      "[ 227/227 ] Loss: 2.989331... Val Loss: 3.869242... Val BLEU: 18.763480...\n",
      "Total Epoche:  |    Time: 0m 55s\n",
      " Epoch Loss: 3.501581... Train BLEU: 19.541865...\n",
      "-----------------------------------------------------------------\n",
      "Epoch 2\n",
      "-----------------------------------------------------------------\n",
      "[ 50/227 ] Loss: 3.801366... Val Loss: 3.729189... Val BLEU: 22.665945...\n",
      "[ 100/227 ] Loss: 2.627002... Val Loss: 3.601325... Val BLEU: 24.186329...\n",
      "[ 150/227 ] Loss: 2.387233... Val Loss: 3.628886... Val BLEU: 22.947622...\n",
      "[ 200/227 ] Loss: 3.240133... Val Loss: 3.500826... Val BLEU: 25.409625...\n",
      "[ 227/227 ] Loss: 3.596671... Val Loss: 3.464743... Val BLEU: 25.440261...\n",
      "Total Epoche:  |    Time: 0m 55s\n",
      " Epoch Loss: 2.587749... Train BLEU: 30.271684...\n",
      "-----------------------------------------------------------------\n",
      "Epoch 3\n",
      "-----------------------------------------------------------------\n",
      "[ 50/227 ] Loss: 2.294997... Val Loss: 3.494246... Val BLEU: 26.300927...\n",
      "[ 100/227 ] Loss: 1.335979... Val Loss: 3.496143... Val BLEU: 26.754421...\n",
      "[ 150/227 ] Loss: 3.044538... Val Loss: 3.496432... Val BLEU: 26.827245...\n",
      "[ 200/227 ] Loss: 1.458957... Val Loss: 3.441002... Val BLEU: 26.818041...\n",
      "[ 227/227 ] Loss: 2.021186... Val Loss: 3.469230... Val BLEU: 26.091369...\n",
      "Total Epoche:  |    Time: 0m 44s\n",
      " Epoch Loss: 2.218357... Train BLEU: 36.107530...\n",
      "-----------------------------------------------------------------\n",
      "Epoch 4\n",
      "-----------------------------------------------------------------\n",
      "[ 50/227 ] Loss: 1.441744... Val Loss: 3.487643... Val BLEU: 27.518498...\n",
      "[ 100/227 ] Loss: 1.769685... Val Loss: 3.563039... Val BLEU: 27.802965...\n",
      "[ 150/227 ] Loss: 1.551695... Val Loss: 3.538254... Val BLEU: 27.461910...\n",
      "[ 200/227 ] Loss: 1.626747... Val Loss: 3.593070... Val BLEU: 28.383458...\n",
      "[ 227/227 ] Loss: 2.369007... Val Loss: 3.512899... Val BLEU: 27.895981...\n",
      "Total Epoche:  |    Time: 0m 40s\n",
      " Epoch Loss: 2.049528... Train BLEU: 41.627762...\n",
      "-----------------------------------------------------------------\n",
      "Epoch 5\n",
      "-----------------------------------------------------------------\n",
      "[ 50/227 ] Loss: 0.891909... Val Loss: 3.580512... Val BLEU: 28.715958...\n",
      "[ 100/227 ] Loss: 1.314215... Val Loss: 3.607529... Val BLEU: 28.320709...\n",
      "[ 150/227 ] Loss: 2.281691... Val Loss: 3.570638... Val BLEU: 28.218866...\n",
      "[ 200/227 ] Loss: 1.917163... Val Loss: 3.546756... Val BLEU: 29.241032...\n",
      "[ 227/227 ] Loss: 1.960499... Val Loss: 3.589368... Val BLEU: 28.459705...\n",
      "Total Epoche:  |    Time: 0m 38s\n",
      " Epoch Loss: 1.935821... Train BLEU: 45.716046...\n",
      "-----------------------------------------------------------------\n",
      "Epoch 6\n",
      "-----------------------------------------------------------------\n",
      "[ 50/227 ] Loss: 0.860374... Val Loss: 3.607161... Val BLEU: 29.066589...\n",
      "[ 100/227 ] Loss: 1.344637... Val Loss: 3.611150... Val BLEU: 28.995509...\n",
      "[ 150/227 ] Loss: 1.480950... Val Loss: 3.657086... Val BLEU: 28.962765...\n",
      "[ 200/227 ] Loss: 1.123496... Val Loss: 3.622852... Val BLEU: 29.687887...\n",
      "[ 227/227 ] Loss: 1.430199... Val Loss: 3.733102... Val BLEU: 28.458092...\n",
      "Total Epoche:  |    Time: 0m 41s\n",
      " Epoch Loss: 1.765972... Train BLEU: 51.917224...\n",
      "-----------------------------------------------------------------\n",
      "Epoch 7\n",
      "-----------------------------------------------------------------\n",
      "[ 50/227 ] Loss: 1.241783... Val Loss: 3.755065... Val BLEU: 29.698122...\n",
      "[ 100/227 ] Loss: 0.636712... Val Loss: 3.674996... Val BLEU: 29.137933...\n",
      "[ 150/227 ] Loss: 1.459794... Val Loss: 3.735949... Val BLEU: 29.375124...\n",
      "[ 200/227 ] Loss: 1.242768... Val Loss: 3.708313... Val BLEU: 29.293308...\n",
      "[ 227/227 ] Loss: 1.937244... Val Loss: 3.710886... Val BLEU: 29.729489...\n",
      "Total Epoche:  |    Time: 0m 38s\n",
      " Epoch Loss: 1.534731... Train BLEU: 57.529085...\n",
      "-----------------------------------------------------------------\n",
      "Epoch 8\n",
      "-----------------------------------------------------------------\n",
      "[ 50/227 ] Loss: 0.565126... Val Loss: 3.754285... Val BLEU: 29.964716...\n",
      "[ 100/227 ] Loss: 1.045058... Val Loss: 3.820484... Val BLEU: 29.930491...\n",
      "[ 150/227 ] Loss: 0.824281... Val Loss: 3.817254... Val BLEU: 29.640773...\n",
      "[ 200/227 ] Loss: 1.243937... Val Loss: 3.805148... Val BLEU: 29.523635...\n",
      "[ 227/227 ] Loss: 0.712605... Val Loss: 3.756614... Val BLEU: 29.312458...\n",
      "Total Epoche:  |    Time: 0m 43s\n",
      " Epoch Loss: 1.395995... Train BLEU: 61.471359...\n",
      "-----------------------------------------------------------------\n",
      "Epoch 9\n",
      "-----------------------------------------------------------------\n",
      "[ 50/227 ] Loss: 0.851475... Val Loss: 3.866460... Val BLEU: 29.152511...\n",
      "[ 100/227 ] Loss: 1.144808... Val Loss: 3.902049... Val BLEU: 29.569487...\n",
      "[ 150/227 ] Loss: 1.012447... Val Loss: 3.851204... Val BLEU: 29.212026...\n",
      "[ 200/227 ] Loss: 0.662695... Val Loss: 3.917970... Val BLEU: 30.157174...\n",
      "[ 227/227 ] Loss: 0.853868... Val Loss: 3.981152... Val BLEU: 29.125540...\n",
      "Total Epoche:  |    Time: 0m 44s\n",
      " Epoch Loss: 1.265884... Train BLEU: 67.167449...\n",
      "-----------------------------------------------------------------\n",
      "Epoch 10\n",
      "-----------------------------------------------------------------\n",
      "[ 50/227 ] Loss: 2.020132... Val Loss: 3.977474... Val BLEU: 29.190395...\n",
      "[ 100/227 ] Loss: 0.738490... Val Loss: 4.056930... Val BLEU: 29.113479...\n",
      "[ 150/227 ] Loss: 0.366079... Val Loss: 4.004547... Val BLEU: 29.050309...\n",
      "[ 200/227 ] Loss: 1.511870... Val Loss: 3.933450... Val BLEU: 29.451768...\n",
      "[ 227/227 ] Loss: 0.413949... Val Loss: 4.015552... Val BLEU: 29.032407...\n",
      "Total Epoche:  |    Time: 0m 51s\n",
      " Epoch Loss: 1.155266... Train BLEU: 70.619570...\n",
      "-----------------------------------------------------------------\n",
      "Epoch 11\n",
      "-----------------------------------------------------------------\n",
      "[ 50/227 ] Loss: 0.681415... Val Loss: 4.108280... Val BLEU: 29.720246...\n",
      "[ 100/227 ] Loss: 1.747590... Val Loss: 4.114902... Val BLEU: 29.224358...\n",
      "[ 150/227 ] Loss: 0.815189... Val Loss: 4.062036... Val BLEU: 29.868659...\n",
      "[ 200/227 ] Loss: 1.106563... Val Loss: 4.065975... Val BLEU: 29.247836...\n",
      "[ 227/227 ] Loss: 0.397418... Val Loss: 4.096356... Val BLEU: 29.457791...\n",
      "Total Epoche:  |    Time: 0m 42s\n",
      " Epoch Loss: 1.057317... Train BLEU: 73.607776...\n",
      "-----------------------------------------------------------------\n",
      "Epoch 12\n",
      "-----------------------------------------------------------------\n",
      "[ 50/227 ] Loss: 0.664959... Val Loss: 4.221601... Val BLEU: 29.324914...\n",
      "[ 100/227 ] Loss: 0.535363... Val Loss: 4.214883... Val BLEU: 29.542444...\n",
      "[ 150/227 ] Loss: 1.039529... Val Loss: 4.156271... Val BLEU: 29.729076...\n",
      "[ 200/227 ] Loss: 0.632821... Val Loss: 4.208696... Val BLEU: 29.501012...\n",
      "[ 227/227 ] Loss: 0.617989... Val Loss: 4.202479... Val BLEU: 29.363383...\n",
      "Total Epoche:  |    Time: 0m 46s\n",
      " Epoch Loss: 0.920036... Train BLEU: 77.500606...\n",
      "-----------------------------------------------------------------\n",
      "Epoch 13\n",
      "-----------------------------------------------------------------\n",
      "[ 50/227 ] Loss: 0.448671... Val Loss: 4.261350... Val BLEU: 30.064414...\n",
      "[ 100/227 ] Loss: 0.350140... Val Loss: 4.259673... Val BLEU: 29.193342...\n",
      "[ 150/227 ] Loss: 1.209746... Val Loss: 4.264667... Val BLEU: 29.541142...\n",
      "[ 200/227 ] Loss: 0.444605... Val Loss: 4.310016... Val BLEU: 29.467254...\n",
      "[ 227/227 ] Loss: 0.215631... Val Loss: 4.335386... Val BLEU: 28.853066...\n",
      "Total Epoche:  |    Time: 0m 49s\n",
      " Epoch Loss: 0.817227... Train BLEU: 80.972979...\n",
      "-----------------------------------------------------------------\n",
      "Epoch 14\n",
      "-----------------------------------------------------------------\n",
      "[ 50/227 ] Loss: 0.231580... Val Loss: 4.365053... Val BLEU: 29.747438...\n",
      "[ 100/227 ] Loss: 0.489635... Val Loss: 4.371471... Val BLEU: 28.894856...\n",
      "[ 150/227 ] Loss: 1.052036... Val Loss: 4.367523... Val BLEU: 28.435972...\n",
      "[ 200/227 ] Loss: 0.787054... Val Loss: 4.368421... Val BLEU: 28.449486...\n",
      "[ 227/227 ] Loss: 0.273454... Val Loss: 4.338018... Val BLEU: 29.404902...\n",
      "Total Epoche:  |    Time: 0m 47s\n",
      " Epoch Loss: 0.768209... Train BLEU: 82.850114...\n",
      "-----------------------------------------------------------------\n",
      "Epoch 15\n",
      "-----------------------------------------------------------------\n",
      "[ 50/227 ] Loss: 0.534202... Val Loss: 4.436552... Val BLEU: 29.905272...\n",
      "[ 100/227 ] Loss: 0.376088... Val Loss: 4.458102... Val BLEU: 29.329323...\n",
      "[ 150/227 ] Loss: 1.050789... Val Loss: 4.520753... Val BLEU: 28.829415...\n",
      "[ 200/227 ] Loss: 0.261233... Val Loss: 4.441794... Val BLEU: 29.904338...\n",
      "[ 227/227 ] Loss: 1.291514... Val Loss: 4.523748... Val BLEU: 28.758909...\n",
      "Total Epoche:  |    Time: 0m 39s\n",
      " Epoch Loss: 0.727620... Train BLEU: 84.186529...\n"
     ]
    }
   ],
   "source": [
    "from Bahdanau.trainer import train\n",
    "import torch\n",
    "\n",
    "clip = 5\n",
    "lr = 1e-2\n",
    "# optimizer = torch.optim.Adam(model.parameters(), lr=lr)\n",
    "# optimizer = torch.optim.SGD(model.parameters(), lr)\n",
    "optimizer = torch.optim.Adam(model.parameters())\n",
    "\n",
    "train(model, optimizer, clip, dataset, \n",
    "      num_epochs=15, mini_batch_size=128, accum_iter=1,\n",
    "      print_every=50)\n",
    "\n",
    "model.save(\"Bahdanau_seq2seq_E15.pt\")"
   ]
  },
  {
   "cell_type": "markdown",
   "metadata": {},
   "source": [
    "### Load the model"
   ]
  },
  {
   "cell_type": "code",
   "execution_count": 3,
   "metadata": {},
   "outputs": [
    {
     "name": "stderr",
     "output_type": "stream",
     "text": [
      "/home/ljy/.conda/envs/long_NLP/lib/python3.8/site-packages/torch/nn/modules/rnn.py:62: UserWarning: dropout option adds dropout after all but last recurrent layer, so non-zero dropout expects num_layers greater than 1, but got dropout=0.2 and num_layers=1\n",
      "  warnings.warn(\"dropout option adds dropout after all but last \"\n"
     ]
    },
    {
     "name": "stdout",
     "output_type": "stream",
     "text": [
      "<bound method Module.parameters of Seq2Seq(\n",
      "  (encoder): Encoder(\n",
      "    (embedding): Embedding(9796, 256, padding_idx=1)\n",
      "    (rnn): GRU(256, 512, batch_first=True, dropout=0.2, bidirectional=True)\n",
      "    (fc): Linear(in_features=1024, out_features=512, bias=True)\n",
      "    (dropout): Dropout(p=0.2, inplace=False)\n",
      "  )\n",
      "  (decoder): Decoder(\n",
      "    (embedding): Embedding(18668, 256, padding_idx=1)\n",
      "    (dropout): Dropout(p=0.2, inplace=False)\n",
      "    (rnn): GRU(1280, 512, batch_first=True, dropout=0.2)\n",
      "    (attention): Bahdanau_Attention(\n",
      "      (W): Linear(in_features=1536, out_features=512, bias=True)\n",
      "      (v): Linear(in_features=512, out_features=1, bias=False)\n",
      "    )\n",
      "    (fc_out): Linear(in_features=1792, out_features=18668, bias=True)\n",
      "  )\n",
      ")>\n"
     ]
    }
   ],
   "source": [
    "from Bahdanau.models import Seq2Seq\n",
    "\n",
    "device = \"cuda\"\n",
    "\n",
    "model = Seq2Seq(src_vocab_size,trg_vocab_size,src_pad_idx,trg_pad_idx,build=False).to(device)\n",
    "model.load(\"Bahdanau_seq2seq_E15.pt\",device)\n",
    "\n",
    "print(model.parameters)"
   ]
  },
  {
   "cell_type": "markdown",
   "metadata": {},
   "source": [
    "### Single sentence translation and Attention visualization\n",
    "#### Greedy decode"
   ]
  },
  {
   "cell_type": "code",
   "execution_count": 10,
   "metadata": {},
   "outputs": [],
   "source": [
    "from Bahdanau.validator import single_decode\n",
    "\n",
    "src = \"a little girl climbing into a wooden playhouse .\"\n",
    "\n",
    "src_sentence, translation, atten_weights = single_decode(model, src, dataset, \"greedy\")"
   ]
  },
  {
   "cell_type": "code",
   "execution_count": 13,
   "metadata": {},
   "outputs": [
    {
     "name": "stdout",
     "output_type": "stream",
     "text": [
      "ein kleines mädchen klettert in ein spielhaus aus holz . <eos>\n"
     ]
    }
   ],
   "source": [
    "print(' '.join(translation))"
   ]
  },
  {
   "cell_type": "code",
   "execution_count": 14,
   "metadata": {},
   "outputs": [
    {
     "data": {
      "image/png": "[encoded data removed]",
      "text/plain": [
       "<Figure size 720x720 with 1 Axes>"
      ]
     },
     "metadata": {
      "needs_background": "light"
     },
     "output_type": "display_data"
    }
   ],
   "source": [
    "from Bahdanau.validator import display_attention\n",
    "\n",
    "display_attention(src_sentence, translation, atten_weights)"
   ]
  },
  {
   "cell_type": "markdown",
   "metadata": {},
   "source": [
    "#### Beam Search decode"
   ]
  },
  {
   "cell_type": "code",
   "execution_count": 15,
   "metadata": {},
   "outputs": [],
   "source": [
    "from Bahdanau.validator import single_decode\n",
    "\n",
    "src = \"a little girl climbing into a wooden playhouse .\"\n",
    "src_sentence, translation, atten_weights = single_decode(model, src, dataset, \"beam\", beam_width=12)"
   ]
  },
  {
   "cell_type": "code",
   "execution_count": 16,
   "metadata": {},
   "outputs": [
    {
     "name": "stdout",
     "output_type": "stream",
     "text": [
      "ein kleines mädchen klettert in einen spielhaus . <eos>\n",
      "ein kleines mädchen klettert in ein spielhaus . <eos>\n",
      "ein kleines mädchen klettert in ein spielhaus aus <eos>\n",
      "ein kleines mädchen klettert in eine holzskulptur . <eos>\n",
      "ein kleines mädchen klettert in ein spielhaus aus . <eos>\n",
      "ein kleines mädchen klettert in ein spielhaus aus holz <eos>\n",
      "ein kleines mädchen klettert in einen spielhaus aus . <eos>\n",
      "ein kleines mädchen klettert ein spielhaus aus holz . <eos>\n",
      "ein kleines mädchen klettert in ein spielhaus aus holz . <eos>\n",
      "ein kleines mädchen klettert in einen spielhaus aus holz . <eos>\n",
      "ein kleines mädchen klettert in eine spielhaus aus holz . <eos>\n",
      "ein kleines mädchen klettert auf ein spielhaus aus holz . <eos>\n"
     ]
    }
   ],
   "source": [
    "for sentence in translation:\n",
    "    print(' '.join(sentence))"
   ]
  },
  {
   "cell_type": "code",
   "execution_count": 17,
   "metadata": {},
   "outputs": [
    {
     "data": {
      "image/png": "[encoded data removed]",
      "text/plain": [
       "<Figure size 720x720 with 1 Axes>"
      ]
     },
     "metadata": {
      "needs_background": "light"
     },
     "output_type": "display_data"
    }
   ],
   "source": [
    "from Bahdanau.validator import display_attention\n",
    "\n",
    "sentence_num = 0\n",
    "\n",
    "display_attention(src_sentence, translation[sentence_num], atten_weights[sentence_num])"
   ]
  }
 ],
 "metadata": {
  "kernelspec": {
   "display_name": "Python 3 (ipykernel)",
   "language": "python",
   "name": "python3"
  },
  "language_info": {
   "codemirror_mode": {
    "name": "ipython",
    "version": 3
   },
   "file_extension": ".py",
   "mimetype": "text/x-python",
   "name": "python",
   "nbconvert_exporter": "python",
   "pygments_lexer": "ipython3",
   "version": "3.8.11"
  }
 },
 "nbformat": 4,
 "nbformat_minor": 4
}